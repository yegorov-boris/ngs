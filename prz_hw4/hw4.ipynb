{
 "cells": [
  {
   "cell_type": "markdown",
   "metadata": {},
   "source": [
    "# HW4\n",
    "\n",
    "### Егоров Борис\n",
    "\n",
    "`bwa index MG1655-K12.first10K.fasta`\n",
    "\n",
    "`bwa index MG1655-K12.first400K.fasta`\n",
    "\n",
    "`bwa mem -t 4 MG1655-K12.first10K.fasta ecoli_10K_err_1.fastq ecoli_10K_err_2.fastq > test.sam`\n",
    "\n",
    "`bwa mem -t 4 MG1655-K12.first400K.fasta ecoli_400K_err_1.fastq ecoli_400K_err_2.fastq > ecoli.sam`\n",
    "\n",
    "`java -jar ../Trimmomatic-0.39/trimmomatic-0.39.jar PE ecoli_10K_err_1.fastq ecoli_10K_err_2.fastq -baseout test_trimmed LEADING:20 TRAILING:20 SLIDINGWINDOW:10:20 MINLEN:20`\n",
    "\n",
    "`java -jar ../Trimmomatic-0.39/trimmomatic-0.39.jar PE ecoli_400K_err_1.fastq ecoli_400K_err_2.fastq -baseout ecoli_trimmed LEADING:20 TRAILING:20 SLIDINGWINDOW:10:20 MINLEN:20`\n",
    "\n",
    "`bwa mem -t 4 MG1655-K12.first10K.fasta test_trimmed_1P test_trimmed_2P > test_trimmed.sam`\n",
    "\n",
    "``\n",
    "\n",
    "| Reads | Tool        | Undetected | Detected & corrected | Detected & removed | Falsely corrected | Correctly unmodified | Incorrectly removed |\n",
    "|:-----:|:-----------:| :---------:|:--------------------:|:------------------:|:-----------------:|:-----------------------:|:-------------------:|\n",
    "| test  | trimmomatic |||||||\n",
    "| ecoli | trimmomatic |||||||\n",
    "| test  | bbduk |||||||\n",
    "| ecoli | bbduk |||||||\n",
    "\n"
   ]
  },
  {
   "cell_type": "code",
   "execution_count": null,
   "metadata": {},
   "outputs": [],
   "source": []
  }
 ],
 "metadata": {
  "kernelspec": {
   "display_name": "Python 3",
   "language": "python",
   "name": "python3"
  },
  "language_info": {
   "codemirror_mode": {
    "name": "ipython",
    "version": 3
   },
   "file_extension": ".py",
   "mimetype": "text/x-python",
   "name": "python",
   "nbconvert_exporter": "python",
   "pygments_lexer": "ipython3",
   "version": "3.8.5"
  }
 },
 "nbformat": 4,
 "nbformat_minor": 4
}
