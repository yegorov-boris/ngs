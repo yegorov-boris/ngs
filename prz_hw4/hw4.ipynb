{
 "cells": [
  {
   "cell_type": "markdown",
   "metadata": {},
   "source": [
    "# HW4\n",
    "\n",
    "### Егоров Борис\n",
    "\n",
    "## Trimmomatic\n",
    "\n",
    "### test\n",
    "\n",
    "|a  |b  |\n",
    "|:-:|:-:|\n",
    "|Error in raw data  |1  |\n",
    "\n",
    "### ecoli\n",
    "\n",
    "## bbduk\n",
    "\n",
    "### test\n",
    "\n",
    "\n",
    "\n",
    "### ecoli\n",
    "\n"
   ]
  },
  {
   "cell_type": "code",
   "execution_count": null,
   "metadata": {},
   "outputs": [],
   "source": []
  }
 ],
 "metadata": {
  "kernelspec": {
   "display_name": "Python 3",
   "language": "python",
   "name": "python3"
  },
  "language_info": {
   "codemirror_mode": {
    "name": "ipython",
    "version": 3
   },
   "file_extension": ".py",
   "mimetype": "text/x-python",
   "name": "python",
   "nbconvert_exporter": "python",
   "pygments_lexer": "ipython3",
   "version": "3.8.5"
  }
 },
 "nbformat": 4,
 "nbformat_minor": 4
}
