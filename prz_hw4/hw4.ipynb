{
 "cells": [
  {
   "cell_type": "markdown",
   "metadata": {},
   "source": [
    "# HW4\n",
    "\n",
    "### Егоров Борис\n",
    "\n",
    "выровнял сырые риды\n",
    "\n",
    "`bwa index MG1655-K12.first10K.fasta`\n",
    "\n",
    "`bwa index MG1655-K12.first400K.fasta`\n",
    "\n",
    "`bwa mem -t 4 MG1655-K12.first10K.fasta ecoli_10K_err_1.fastq ecoli_10K_err_2.fastq > test.sam`\n",
    "\n",
    "`bwa mem -t 4 MG1655-K12.first400K.fasta ecoli_400K_err_1.fastq ecoli_400K_err_2.fastq > ecoli.sam`\n",
    "\n",
    "`samtools view -S -b test.sam > test.bam`\n",
    "\n",
    "`samtools view -S -b ecoli.sam > ecoli.bam`\n",
    "\n",
    "`samtools sort test.bam -o test.sorted.bam`\n",
    "\n",
    "`samtools sort ecoli.bam -o ecoli.sorted.bam`\n",
    "\n",
    "`samtools index -@ 4 -b test.sorted.bam`\n",
    "\n",
    "`samtools index -@ 4 -b ecoli.sorted.bam`\n",
    "\n",
    "отфильтровал риды с помощью trimmomatic\n",
    "\n",
    "`java -jar ../Trimmomatic-0.39/trimmomatic-0.39.jar PE ecoli_10K_err_1.fastq ecoli_10K_err_2.fastq -baseout test_trimmed LEADING:20 TRAILING:20 SLIDINGWINDOW:10:20 MINLEN:20`\n",
    "\n",
    "`java -jar ../Trimmomatic-0.39/trimmomatic-0.39.jar PE ecoli_400K_err_1.fastq ecoli_400K_err_2.fastq -baseout ecoli_trimmed LEADING:20 TRAILING:20 SLIDINGWINDOW:10:20 MINLEN:20`\n",
    "\n",
    "выровнял риды, отфильтрованные с помощью trimmomatic\n",
    "\n",
    "`bwa mem -t 4 MG1655-K12.first10K.fasta test_trimmed_1P test_trimmed_2P > test_trimmed.sam`\n",
    "\n",
    "`bwa mem -t 4 MG1655-K12.first400K.fasta ecoli_trimmed_1P ecoli_trimmed_2P > ecoli_trimmed.sam`\n",
    "\n",
    "`samtools view -S -b test_trimmed.sam > test_trimmed.bam`\n",
    "\n",
    "`samtools view -S -b ecoli_trimmed.sam > ecoli_trimmed.bam`\n",
    "\n",
    "`samtools sort test_trimmed.bam -o test_trimmed.sorted.bam`\n",
    "\n",
    "`samtools sort ecoli_trimmed.bam -o ecoli_trimmed.sorted.bam`\n",
    "\n",
    "`samtools index -@ 4 -b test_trimmed.sorted.bam`\n",
    "\n",
    "`samtools index -@ 4 -b ecoli_trimmed.sorted.bam`\n",
    "\n",
    "исправил риды с помощью spades\n",
    "\n",
    "`spades.py --only-error-correction --pe1-1 ecoli_10K_err_1.fastq --pe1-2 ecoli_10K_err_2.fastq -o test_spades`\n",
    "\n",
    "`spades.py --only-error-correction --pe1-1 ecoli_400K_err_1.fastq --pe1-2 ecoli_400K_err_2.fastq -o ecoli_spades`\n",
    "\n",
    "выровнял риды, исправленные с помощью spades\n",
    "\n",
    "`bwa mem -t 4 MG1655-K12.first10K.fasta test_spades/corrected/ecoli_10K_err_1.00.0_0.cor.fastq.gz test_spades/corrected/ecoli_10K_err_2.00.0_0.cor.fastq.gz > test_spades.sam`\n",
    "\n",
    "`bwa mem -t 4 MG1655-K12.first400K.fasta ecoli_spades/corrected/ecoli_400K_err_1.00.0_0.cor.fastq.gz ecoli_spades/corrected/ecoli_400K_err_2.00.0_0.cor.fastq.gz > ecoli_spades.sam`\n",
    "\n",
    "`samtools view -S -b test_spades.sam > test_spades.bam`\n",
    "\n",
    "`samtools view -S -b ecoli_spades.sam > ecoli_spades.bam`\n",
    "\n",
    "`samtools sort test_spades.bam -o test_spades.sorted.bam`\n",
    "\n",
    "`samtools sort ecoli_spades.bam -o ecoli_spades.sorted.bam`\n",
    "\n",
    "`samtools index -@ 4 -b test_spades.sorted.bam`\n",
    "\n",
    "`samtools index -@ 4 -b ecoli_spades.sorted.bam`"
   ]
  },
  {
   "cell_type": "code",
   "execution_count": 2,
   "metadata": {
    "scrolled": true
   },
   "outputs": [],
   "source": [
    "import pysam\n",
    "import numpy as np\n",
    "\n",
    "def stats(path_raw, path_corrected, path_ref):\n",
    "    fa = pysam.FastaFile(path_ref)\n",
    "    ref = fa.fetch('gi|49175990|ref|NC_000913.2|')\n",
    "    fa.close()\n",
    "    counts = {\n",
    "        'undetected': 0,\n",
    "        'detected_corrected': 0,\n",
    "        'detected_removed': 0,\n",
    "        'falsely_corrected': 0,\n",
    "        'correctly_unmodified': 0,\n",
    "        'incorrectly_removed': 0,\n",
    "    }\n",
    "    raw = pysam.AlignmentFile(path_raw, \"rb\")\n",
    "    cor = pysam.AlignmentFile(path_corrected, \"rb\")\n",
    "    i_raw = iter(raw.pileup())\n",
    "    i_cor = iter(cor.pileup())\n",
    "    for base_ref in ref:\n",
    "        reads_raw = {}\n",
    "        for read in next(i_raw).pileups:\n",
    "            reads_raw[str(read.alignment).split()[0]] = read\n",
    "        for read in next(i_cor).pileups:\n",
    "            id = str(read.alignment).split()[0]\n",
    "            if id not in reads_raw or read.alignment.is_reverse != reads_raw[id].alignment.is_reverse:\n",
    "                continue\n",
    "            raw_read = reads_raw[id]\n",
    "            del reads_raw[id]\n",
    "            base_cor = '' if read.query_position is None else read.alignment.query_sequence[read.query_position]\n",
    "            base_raw = '' if raw_read.query_position is None else raw_read.alignment.query_sequence[raw_read.query_position]\n",
    "            if base_raw == base_ref:\n",
    "                if read.is_del == 1:\n",
    "                    counts['incorrectly_removed'] += 1\n",
    "                    continue\n",
    "                if base_cor == base_ref:\n",
    "                    counts['correctly_unmodified'] += 1\n",
    "                else:\n",
    "                    counts['falsely_corrected'] += 1\n",
    "            else:\n",
    "                if read.is_del == 1:\n",
    "                    counts['detected_removed'] += 1\n",
    "                    continue\n",
    "                if base_cor == base_ref:\n",
    "                    counts['detected_corrected'] += 1\n",
    "                else:\n",
    "                    counts['undetected'] += 1\n",
    "        for id in reads_raw:\n",
    "            if reads_raw[id].query_position is not None and base_ref == reads_raw[id].alignment.query_sequence[reads_raw[id].query_position]:\n",
    "                counts['incorrectly_removed'] += 1\n",
    "            else:\n",
    "                counts['detected_removed'] += 1\n",
    "    raw.close()\n",
    "    cor.close()\n",
    "    return counts\n",
    "\n",
    "# %time print(stats('test.sorted.bam', 'test_trimmed.sorted.bam', 'MG1655-K12.first10K.fasta'))"
   ]
  },
  {
   "cell_type": "code",
   "execution_count": 120,
   "metadata": {},
   "outputs": [
    {
     "name": "stdout",
     "output_type": "stream",
     "text": [
      "{'undetected': 3566, 'detected_corrected': 18781, 'detected_removed': 32879, 'falsely_corrected': 7881, 'correctly_unmodified': 5217754, 'incorrectly_removed': 439746}\n",
      "CPU times: user 5min 41s, sys: 179 ms, total: 5min 41s\n",
      "Wall time: 5min 41s\n"
     ]
    }
   ],
   "source": [
    "%time print(stats('test.sorted.bam', 'test_spades.sorted.bam', 'MG1655-K12.first10K.fasta'))"
   ]
  },
  {
   "cell_type": "code",
   "execution_count": 3,
   "metadata": {},
   "outputs": [
    {
     "name": "stdout",
     "output_type": "stream",
     "text": [
      "{'undetected': 885231, 'detected_corrected': 657, 'detected_removed': 1538193, 'falsely_corrected': 195, 'correctly_unmodified': 240912298, 'incorrectly_removed': 26068555}\n"
     ]
    }
   ],
   "source": [
    "print(stats('ecoli.sorted.bam', 'ecoli_trimmed.sorted.bam', 'MG1655-K12.first400K.fasta'))"
   ]
  },
  {
   "cell_type": "code",
   "execution_count": 4,
   "metadata": {},
   "outputs": [
    {
     "name": "stdout",
     "output_type": "stream",
     "text": [
      "{'undetected': 246557, 'detected_corrected': 831067, 'detected_removed': 1346457, 'falsely_corrected': 372863, 'correctly_unmodified': 246720028, 'incorrectly_removed': 19888157}\n"
     ]
    }
   ],
   "source": [
    "print(stats('ecoli.sorted.bam', 'ecoli_spades.sorted.bam', 'MG1655-K12.first400K.fasta'))"
   ]
  },
  {
   "cell_type": "markdown",
   "metadata": {},
   "source": [
    "| Reads | Tool        | Undetected | Detected & corrected | Detected & removed | Falsely corrected | Correctly unmodified | Incorrectly removed |\n",
    "|:-----:|:-----------:| :---------:|:--------------------:|:------------------:|:-----------------:|:-----------------------:|:-------------------:|\n",
    "| test  | trimmomatic |17921|10|37295|2|5092438|572941|\n",
    "| test  | spades |3566|18781|32879|7881|5217754|439746|\n",
    "| ecoli | trimmomatic |||||||\n",
    "| ecoli | spades |||||||"
   ]
  },
  {
   "cell_type": "code",
   "execution_count": null,
   "metadata": {},
   "outputs": [],
   "source": []
  }
 ],
 "metadata": {
  "kernelspec": {
   "display_name": "Python 3",
   "language": "python",
   "name": "python3"
  },
  "language_info": {
   "codemirror_mode": {
    "name": "ipython",
    "version": 3
   },
   "file_extension": ".py",
   "mimetype": "text/x-python",
   "name": "python",
   "nbconvert_exporter": "python",
   "pygments_lexer": "ipython3",
   "version": "3.8.5"
  }
 },
 "nbformat": 4,
 "nbformat_minor": 4
}
